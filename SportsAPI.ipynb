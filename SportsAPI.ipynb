{
 "cells": [
  {
   "cell_type": "markdown",
   "metadata": {},
   "source": [
    "# Functions for Processing\n",
    "----\n",
    "\n",
    "#### Note\n"
   ]
  },
  {
   "cell_type": "code",
   "execution_count": 70,
   "metadata": {},
   "outputs": [],
   "source": [
    "# Dependencies and Setup\n",
    "import matplotlib.pyplot as plt\n",
    "import pandas as pd\n",
    "import numpy as np\n",
    "import requests\n",
    "import time\n",
    "import json as js\n",
    "from scipy.stats import linregress\n",
    "from collections import Counter \n",
    "\n",
    "# Import API key - usng CBS keys - not used yet\n",
    "#from api_keys import sport_key\n",
    "from config import gkey\n",
    "\n",
    "# Incorporated citipy to determine city based on latitude and longitude\n",
    "from citipy import citipy\n",
    "\n",
    "# Input test file (JSON)\n",
    "input_data_file='events.json'\n",
    "# Output File (CSV)\n",
    "output_data_file = \"eventsMaster.csv\"\n"
   ]
  },
  {
   "cell_type": "markdown",
   "metadata": {},
   "source": [
    "## Generate Events listing"
   ]
  },
  {
   "cell_type": "code",
   "execution_count": 71,
   "metadata": {},
   "outputs": [],
   "source": [
    "with open(input_data_file) as f:\n",
    "  data = js.load(f)\n",
    "#gives a dictionary\n",
    "#data.values()\n"
   ]
  },
  {
   "cell_type": "code",
   "execution_count": 72,
   "metadata": {},
   "outputs": [],
   "source": [
    "import pprint\n",
    "#pp = pprint.PrettyPrinter(depth=4)\n",
    "#pp.pprint(data)\n"
   ]
  },
  {
   "cell_type": "markdown",
   "metadata": {},
   "source": [
    "Need: \n",
    "'count'  - gives the number of events in the list\n",
    "nested in 'count'\n",
    "'events' - nested\n",
    " by 'contenttype'\n",
    "     'eventstate' 'scheduled'\n",
    "     'eventstatus' 'live'\n",
    "     'eventtype' 'game'\n",
    "     'is_passthrough' 'False'\n",
    "     'prismid': '27a62c10-4a15-42ae-a81b-9b31c346ffb9',  [unique id]\n",
    "     'schedule': {'endtimestamp': 1618181100,\n",
    "                          'starttimebuffer': 0,\n",
    "                          'starttimestamp': 1618163100},\n",
    "     'school': 'nwst',\n",
    "     'school_name': 'Northwestern State University',\n",
    "     'sport': 'm-basebl',\n",
    "     'sport_name': 'Baseball',\n",
    "\n"
   ]
  },
  {
   "cell_type": "markdown",
   "metadata": {},
   "source": [
    "### Perform API Calls\n",
    "* Perform a weather check on each city using a series of successive API calls.\n",
    "* Include a print log of each city as it'sbeing processed (with the city number and city name).\n"
   ]
  },
  {
   "cell_type": "markdown",
   "metadata": {},
   "source": [
    "### Convert Raw Data to DataFrame\n",
    "* Export the city data into a .csv.\n",
    "* Display the DataFrame"
   ]
  },
  {
   "cell_type": "code",
   "execution_count": 73,
   "metadata": {},
   "outputs": [],
   "source": [
    "#another way to print\n",
    "\n",
    "#pp.pprint(f'Dictionary comprehension: {data}')"
   ]
  },
  {
   "cell_type": "code",
   "execution_count": 74,
   "metadata": {},
   "outputs": [
    {
     "data": {
      "text/plain": [
       "dict_keys(['events', 'count'])"
      ]
     },
     "execution_count": 74,
     "metadata": {},
     "output_type": "execute_result"
    }
   ],
   "source": [
    "data.keys()"
   ]
  },
  {
   "cell_type": "code",
   "execution_count": 75,
   "metadata": {},
   "outputs": [
    {
     "name": "stdout",
     "output_type": "stream",
     "text": [
      "706\n",
      "filtered data counts 558\n"
     ]
    }
   ],
   "source": [
    "newDict={}\n",
    "print(data['count'])\n",
    "newCount=0\n",
    "#filter out the passthrough records\n",
    "Counts=data['count']\n",
    "#first look for passthrough = True\n",
    "for index in range(1,Counts):\n",
    "    if data['events'][index]['is_passthrough']==False:\n",
    "        newDict=data\n",
    "        newCount= newCount+1\n",
    "    \n",
    "#print(newDict)    \n",
    "print(f'filtered data counts {newCount}')"
   ]
  },
  {
   "cell_type": "code",
   "execution_count": 76,
   "metadata": {},
   "outputs": [],
   "source": [
    "ID=[]\n",
    "Type=[]\n",
    "Scheduled=[]\n",
    "Status=[]\n",
    "CType=[]\n",
    "Pass=[]\n",
    "Start=[]\n",
    "End=[]\n",
    "Event_Title=[]\n",
    "School_Name=[]\n",
    "School_Code=[]\n",
    "Game=[]\n",
    "PubPoint=[]\n",
    "\n",
    "\n",
    "for index in range(1,newCount):\n",
    "    try:\n",
    "        ID.append(newDict['events'][index]['prismid'])\n",
    "        #Type.append(newDict['events'][index]['eventtype'])\n",
    "        Scheduled.append(newDict['events'][index]['eventstate'])\n",
    "        #Status.append(newDict['events'][index]['eventstatus'])\n",
    "        #CType.append(newDict['events'][index]['contenttype'])\n",
    "        Pass.append(newDict['events'][index]['is_passthrough'])\n",
    "        Start.append(newDict['events'][index]['starttime'])\n",
    "        End.append(newDict['events'][index]['endtime'])\n",
    "        Event_Title.append(newDict['events'][index]['eventtitle'])\n",
    "        School_Name.append(newDict['events'][index]['school_name'])\n",
    "        School_Code.append(newDict['events'][index]['school'])\n",
    "        Game.append(newDict['events'][index]['sport_name'])\n",
    "        #PubPoint.append(newDict['events'][index]['ingest']['primary']['pub_point'])\n",
    "    except ValueError:\n",
    "        continue\n",
    "    except KeyError:\n",
    "        print(index)\n",
    "        continue\n",
    "             \n",
    "        \n",
    "  \n",
    "    \n",
    "event_df=pd.DataFrame(ID)\n",
    "#event_df['Event type']=Type\n",
    "event_df['Scheduled']=Scheduled\n",
    "#event_df['Is Live']=Status\n",
    "#event_df['Content Type']=CType\n",
    "event_df['PassThru']=Pass\n",
    "event_df['Start Time']=Start\n",
    "event_df['End Time']=End\n",
    "event_df['Event']=Event_Title\n",
    "event_df['School Name']=School_Name\n",
    "event_df['School Code']=School_Code\n",
    "event_df['Sport']=Game\n",
    "#event_df['Access Point']=PubPoint\n",
    "event_df.rename(columns={0:'ID'},inplace=True)\n",
    "event_df.set_index('ID',inplace=True)\n",
    "\n"
   ]
  },
  {
   "cell_type": "code",
   "execution_count": 78,
   "metadata": {
    "scrolled": true
   },
   "outputs": [
    {
     "data": {
      "text/html": [
       "<div>\n",
       "<style scoped>\n",
       "    .dataframe tbody tr th:only-of-type {\n",
       "        vertical-align: middle;\n",
       "    }\n",
       "\n",
       "    .dataframe tbody tr th {\n",
       "        vertical-align: top;\n",
       "    }\n",
       "\n",
       "    .dataframe thead th {\n",
       "        text-align: right;\n",
       "    }\n",
       "</style>\n",
       "<table border=\"1\" class=\"dataframe\">\n",
       "  <thead>\n",
       "    <tr style=\"text-align: right;\">\n",
       "      <th></th>\n",
       "      <th>Scheduled</th>\n",
       "      <th>PassThru</th>\n",
       "      <th>Start Time</th>\n",
       "      <th>End Time</th>\n",
       "      <th>Event</th>\n",
       "      <th>School Name</th>\n",
       "      <th>School Code</th>\n",
       "      <th>Sport</th>\n",
       "    </tr>\n",
       "    <tr>\n",
       "      <th>ID</th>\n",
       "      <th></th>\n",
       "      <th></th>\n",
       "      <th></th>\n",
       "      <th></th>\n",
       "      <th></th>\n",
       "      <th></th>\n",
       "      <th></th>\n",
       "      <th></th>\n",
       "    </tr>\n",
       "  </thead>\n",
       "  <tbody>\n",
       "    <tr>\n",
       "      <th>80454be6-1828-499d-b398-6c3b38f30a28</th>\n",
       "      <td>scheduled</td>\n",
       "      <td>False</td>\n",
       "      <td>1618008600</td>\n",
       "      <td>1618020000</td>\n",
       "      <td>SB: Middle Tennessee vs Marshall</td>\n",
       "      <td>Conference USA</td>\n",
       "      <td>c-usa</td>\n",
       "      <td>Softball</td>\n",
       "    </tr>\n",
       "    <tr>\n",
       "      <th>f9547332-f5d5-49e0-bc8f-63ec97466837</th>\n",
       "      <td>scheduled</td>\n",
       "      <td>False</td>\n",
       "      <td>1618073400</td>\n",
       "      <td>1618084800</td>\n",
       "      <td>vs. Ashland</td>\n",
       "      <td>Davenport University</td>\n",
       "      <td>dave</td>\n",
       "      <td>Baseball</td>\n",
       "    </tr>\n",
       "    <tr>\n",
       "      <th>cc6a38ff-0b50-4d79-b47f-320b77188954</th>\n",
       "      <td>scheduled</td>\n",
       "      <td>False</td>\n",
       "      <td>1618076700</td>\n",
       "      <td>1618110000</td>\n",
       "      <td>UWG Baseball vs. Union</td>\n",
       "      <td>University of West Georgia</td>\n",
       "      <td>wega</td>\n",
       "      <td>Baseball</td>\n",
       "    </tr>\n",
       "    <tr>\n",
       "      <th>bc057b3e-4358-4089-aea2-05ac0004396c</th>\n",
       "      <td>scheduled</td>\n",
       "      <td>False</td>\n",
       "      <td>1617822000</td>\n",
       "      <td>1617840000</td>\n",
       "      <td>Bethany at W&amp;J</td>\n",
       "      <td>Presidents Athletic Conference</td>\n",
       "      <td>pac</td>\n",
       "      <td>Softball</td>\n",
       "    </tr>\n",
       "    <tr>\n",
       "      <th>1281a5f2-414e-4349-ab70-63900958ec47</th>\n",
       "      <td>scheduled</td>\n",
       "      <td>False</td>\n",
       "      <td>1618008600</td>\n",
       "      <td>1618020000</td>\n",
       "      <td>BSB AUDIO: Charlotte at FIU</td>\n",
       "      <td>Conference USA</td>\n",
       "      <td>c-usa</td>\n",
       "      <td>Baseball</td>\n",
       "    </tr>\n",
       "  </tbody>\n",
       "</table>\n",
       "</div>"
      ],
      "text/plain": [
       "                                      Scheduled  PassThru  Start Time  \\\n",
       "ID                                                                      \n",
       "80454be6-1828-499d-b398-6c3b38f30a28  scheduled     False  1618008600   \n",
       "f9547332-f5d5-49e0-bc8f-63ec97466837  scheduled     False  1618073400   \n",
       "cc6a38ff-0b50-4d79-b47f-320b77188954  scheduled     False  1618076700   \n",
       "bc057b3e-4358-4089-aea2-05ac0004396c  scheduled     False  1617822000   \n",
       "1281a5f2-414e-4349-ab70-63900958ec47  scheduled     False  1618008600   \n",
       "\n",
       "                                        End Time  \\\n",
       "ID                                                 \n",
       "80454be6-1828-499d-b398-6c3b38f30a28  1618020000   \n",
       "f9547332-f5d5-49e0-bc8f-63ec97466837  1618084800   \n",
       "cc6a38ff-0b50-4d79-b47f-320b77188954  1618110000   \n",
       "bc057b3e-4358-4089-aea2-05ac0004396c  1617840000   \n",
       "1281a5f2-414e-4349-ab70-63900958ec47  1618020000   \n",
       "\n",
       "                                                                 Event  \\\n",
       "ID                                                                       \n",
       "80454be6-1828-499d-b398-6c3b38f30a28  SB: Middle Tennessee vs Marshall   \n",
       "f9547332-f5d5-49e0-bc8f-63ec97466837                       vs. Ashland   \n",
       "cc6a38ff-0b50-4d79-b47f-320b77188954            UWG Baseball vs. Union   \n",
       "bc057b3e-4358-4089-aea2-05ac0004396c                    Bethany at W&J   \n",
       "1281a5f2-414e-4349-ab70-63900958ec47       BSB AUDIO: Charlotte at FIU   \n",
       "\n",
       "                                                         School Name  \\\n",
       "ID                                                                     \n",
       "80454be6-1828-499d-b398-6c3b38f30a28                  Conference USA   \n",
       "f9547332-f5d5-49e0-bc8f-63ec97466837            Davenport University   \n",
       "cc6a38ff-0b50-4d79-b47f-320b77188954      University of West Georgia   \n",
       "bc057b3e-4358-4089-aea2-05ac0004396c  Presidents Athletic Conference   \n",
       "1281a5f2-414e-4349-ab70-63900958ec47                  Conference USA   \n",
       "\n",
       "                                     School Code     Sport  \n",
       "ID                                                          \n",
       "80454be6-1828-499d-b398-6c3b38f30a28       c-usa  Softball  \n",
       "f9547332-f5d5-49e0-bc8f-63ec97466837        dave  Baseball  \n",
       "cc6a38ff-0b50-4d79-b47f-320b77188954        wega  Baseball  \n",
       "bc057b3e-4358-4089-aea2-05ac0004396c         pac  Softball  \n",
       "1281a5f2-414e-4349-ab70-63900958ec47       c-usa  Baseball  "
      ]
     },
     "execution_count": 78,
     "metadata": {},
     "output_type": "execute_result"
    }
   ],
   "source": [
    "event_df.head()"
   ]
  },
  {
   "cell_type": "code",
   "execution_count": 50,
   "metadata": {},
   "outputs": [
    {
     "data": {
      "text/plain": [
       "Index(['Scheduled', 'PassThru', 'Start Time', 'End Time', 'Event',\n",
       "       'School Name', 'School Code', 'Sport'],\n",
       "      dtype='object')"
      ]
     },
     "execution_count": 50,
     "metadata": {},
     "output_type": "execute_result"
    }
   ],
   "source": [
    "event_df.columns"
   ]
  },
  {
   "cell_type": "code",
   "execution_count": 51,
   "metadata": {},
   "outputs": [],
   "source": [
    "#output dataframe to CSV file\n",
    "event_df.to_csv('events.csv')"
   ]
  },
  {
   "cell_type": "code",
   "execution_count": 52,
   "metadata": {},
   "outputs": [
    {
     "name": "stdout",
     "output_type": "stream",
     "text": [
      "147\n",
      "0\n"
     ]
    }
   ],
   "source": [
    "#get the type and pub point values for each prismid\n",
    "with open(input_data_file) as f:\n",
    "  filter_set = js.load(f)\n",
    "#gives a dictionary\n",
    "filter_set.values()\n",
    "\n",
    "prismid=[]\n",
    "Pass=[]\n",
    "contenttype=[]\n",
    "pubPoint=[]\n",
    "#filter out the passthrough records\n",
    "Counters=filter_set['count']\n",
    "\n",
    "pr_count=0\n",
    "content_count=0\n",
    "pass_count=0\n",
    "pub_count=0\n",
    "#first look for passthrough = True\n",
    "for index in range(1,Counts):\n",
    "   try:     \n",
    "    \n",
    "    if filter_set['events'][index]['is_passthrough']==True:\n",
    "        Pass.append(filter_set['events'][index]['is_passthrough'])\n",
    "        prismid.append(filter_set['events'][index]['prismid'])\n",
    "        contenttype.append(filter_set['events'][index]['contenttype'])\n",
    "        pubPoint.append(filter_set['events'][index]['ingest']['primary']['pub_point'])\n",
    "   except KeyError:\n",
    "        continue\n",
    "\n",
    "count_pid=len(prismid)\n",
    "print(count_pid)        \n",
    "#count_contenttype=len(contenttype)  \n",
    "#count_pass=len(Pass)\n",
    "#print(count_pass)\n",
    "#print(f'pass_throughs are :{Pass}')  \n",
    "count_pubs=len(pubPoint)\n",
    "print(count_pubs)\n",
    "#print(f'pubs are: {pubPoint}')\n",
    "  \n",
    "#print(f'prismids to exclude are :{prismid}')"
   ]
  },
  {
   "cell_type": "code",
   "execution_count": 69,
   "metadata": {},
   "outputs": [
    {
     "name": "stdout",
     "output_type": "stream",
     "text": [
      "1\n",
      "442\n",
      "442\n"
     ]
    }
   ],
   "source": [
    "counter=0\n",
    "xcount=0\n",
    "prID=[]\n",
    "PP=[]\n",
    "# the pub points\n",
    "for index in range(1,newCount):\n",
    "    if newDict['events'][index]['prismid'] in prismid:\n",
    "        xcount=+1\n",
    "    elif newDict['events'][index]['prismid']not in prismid:\n",
    "        prID.append(newDict['events'][index]['prismid'])\n",
    "        PP.append(newDict['events'][index]['ingest']['primary']['pub_point'])\n",
    "        \n",
    "print(xcount)\n",
    "print(len(prID))  \n",
    "print(len(PP))\n",
    "\n",
    "AddPP_df=pd.DataFrame(prID)\n",
    "AddPP_df['PubPoint']=PP\n",
    "AddPP_df.rename(columns={0:'ID'},inplace=True)\n",
    "AddPP_df.set_index('ID',inplace=True)"
   ]
  },
  {
   "cell_type": "code",
   "execution_count": 68,
   "metadata": {},
   "outputs": [
    {
     "name": "stdout",
     "output_type": "stream",
     "text": [
      "                                                  PubPoint\n",
      "ID                                                        \n",
      "80454be6-1828-499d-b398-6c3b38f30a28         mtsu_softball\n",
      "f9547332-f5d5-49e0-bc8f-63ec97466837           davenport_1\n",
      "cc6a38ff-0b50-4d79-b47f-320b77188954    westgeorgia_audio2\n",
      "bc057b3e-4358-4089-aea2-05ac0004396c            washjeff_1\n",
      "1281a5f2-414e-4349-ab70-63900958ec47      charlotte_audio2\n",
      "...                                                    ...\n",
      "584cb036-66a8-4a6f-b725-067ffe6c09e0  southalabama_3_audio\n",
      "a65b3462-a775-445e-b7d2-c330c4476fbe          providence_1\n",
      "d986f7b6-fea3-4a03-ac1e-8dbfaef364af                 ecu_2\n",
      "c5127d37-1fa6-418a-aefd-1d1c6a61adcd         cumberlands_2\n",
      "823a3c4b-c307-4cc0-ad0c-985461829089           villanova_1\n",
      "\n",
      "[442 rows x 1 columns]\n"
     ]
    }
   ],
   "source": [
    "print(AddPP_df)"
   ]
  },
  {
   "cell_type": "code",
   "execution_count": 92,
   "metadata": {},
   "outputs": [
    {
     "data": {
      "text/plain": [
       "Scheduled      557\n",
       "PassThru       557\n",
       "Start Time     557\n",
       "End Time       557\n",
       "Event          557\n",
       "School Name    557\n",
       "School Code    557\n",
       "Sport          557\n",
       "PubPoint       442\n",
       "dtype: int64"
      ]
     },
     "execution_count": 92,
     "metadata": {},
     "output_type": "execute_result"
    }
   ],
   "source": [
    "#gets the 558 with 442 pub points\n",
    "working_events=event_df.merge(AddPP_df,how='left', left_on='ID',right_on='ID')\n",
    "\n",
    "working_events.tail()\n",
    "working_events.count()"
   ]
  },
  {
   "cell_type": "code",
   "execution_count": 91,
   "metadata": {},
   "outputs": [],
   "source": [
    "#output dataframe to CSV file - passthroughs accunted for - audio shown in pubPoint\n",
    "working_events.to_csv('NewPubPoints_in_events.csv')"
   ]
  },
  {
   "cell_type": "code",
   "execution_count": null,
   "metadata": {},
   "outputs": [],
   "source": [
    "#process for location lat/lng by School Name\n",
    "#from api_keys import g_key\n",
    "\n",
    "#school locations to come later this week"
   ]
  }
 ],
 "metadata": {
  "anaconda-cloud": {},
  "kernel_info": {
   "name": "python3"
  },
  "kernelspec": {
   "display_name": "Python [conda env:PythonData] *",
   "language": "python",
   "name": "conda-env-PythonData-py"
  },
  "language_info": {
   "codemirror_mode": {
    "name": "ipython",
    "version": 3
   },
   "file_extension": ".py",
   "mimetype": "text/x-python",
   "name": "python",
   "nbconvert_exporter": "python",
   "pygments_lexer": "ipython3",
   "version": "3.6.10"
  },
  "latex_envs": {
   "LaTeX_envs_menu_present": true,
   "autoclose": false,
   "autocomplete": true,
   "bibliofile": "biblio.bib",
   "cite_by": "apalike",
   "current_citInitial": 1,
   "eqLabelWithNumbers": true,
   "eqNumInitial": 1,
   "hotkeys": {
    "equation": "Ctrl-E",
    "itemize": "Ctrl-I"
   },
   "labels_anchors": false,
   "latex_user_defs": false,
   "report_style_numbering": false,
   "user_envs_cfg": false
  },
  "nteract": {
   "version": "0.12.3"
  }
 },
 "nbformat": 4,
 "nbformat_minor": 2
}
