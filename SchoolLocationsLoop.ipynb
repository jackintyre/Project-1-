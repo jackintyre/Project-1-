{
 "cells": [
  {
   "cell_type": "code",
   "execution_count": 1,
   "metadata": {},
   "outputs": [],
   "source": [
    "import pandas as pd\n",
    "import requests\n",
    "import time\n",
    "import json as js\n",
    "import gmaps\n",
    "\n",
    "from config import gkey"
   ]
  },
  {
   "cell_type": "code",
   "execution_count": 2,
   "metadata": {},
   "outputs": [
    {
     "name": "stdout",
     "output_type": "stream",
     "text": [
      "Index(['ID', 'Scheduled', 'PassThru', 'Start Time', 'End Time', 'Event',\n",
      "       'School Name', 'School Code', 'Sport'],\n",
      "      dtype='object')\n"
     ]
    }
   ],
   "source": [
    "#Open file to get working_events copy to use \n",
    "working_set_df = pd.read_csv('events.csv') \n",
    "print(working_set_df.columns)\n",
    "#working_set_df.head()\n",
    "#now has the index column"
   ]
  },
  {
   "cell_type": "code",
   "execution_count": 3,
   "metadata": {},
   "outputs": [
    {
     "name": "stdout",
     "output_type": "stream",
     "text": [
      "Skipping\n",
      "Skipping\n",
      "Skipping\n",
      "Skipping\n"
     ]
    }
   ],
   "source": [
    "Geo_df=pd.DataFrame()\n",
    "Geo_df[\"School Name\"]=\"\"\n",
    "Geo_df[\"Lat\"]=\"\"\n",
    "Geo_df[\"Long\"]=\"\"\n",
    "\n",
    "#working_set_df[\"Lat\"]=''\n",
    "#working_set_df[\"Long\"]=''\n",
    "radii=50000\n",
    "target_city=\"\"\n",
    "target_type=\"university\"\n",
    "keys=\"\"\n",
    "\n",
    "params={\"address\":target_city,\n",
    "        \"radius\":radii,\n",
    "        \"types\":target_type,\n",
    "        \"keyword\":keys,\n",
    "        \"key\":gkey}\n",
    "base_url=\"https://maps.googleapis.com/maps/api/geocode/json\"\n",
    "basecount=working_set_df.count()\n",
    "\n",
    "for index,row in working_set_df.iterrows():\n",
    "    target_city=row['School Name']\n",
    "    #print(target_city)\n",
    "    params[\"address\"]=target_city\n",
    "    params[\"keyword\"]=target_city\n",
    "    response=requests.get(base_url, params=params)\n",
    "    #print(response)\n",
    "    new_geo=response.json()\n",
    "    try:\n",
    "        Geo_df.loc[index,\"School Name\"]=row['School Name']\n",
    "        Geo_df.loc[index,\"Lat\"]=new_geo[\"results\"][0][\"geometry\"][\"location\"][\"lat\"]\n",
    "        Geo_df.loc[index,\"Long\"]=new_geo[\"results\"][0][\"geometry\"][\"location\"][\"lng\"]\n",
    "        #here are the working_set_df added columns\n",
    "        #working_set_df[\"Lat\"]=new_geo[\"results\"][0][\"geometry\"][\"location\"][\"lat\"]\n",
    "        #working_set_df[\"Long\"]=new_geo[\"results\"][0][\"geometry\"][\"location\"][\"lng\"]\n",
    "    except(KeyError, IndexError):\n",
    "        print('Skipping')\n",
    "\n"
   ]
  },
  {
   "cell_type": "code",
   "execution_count": 4,
   "metadata": {},
   "outputs": [
    {
     "name": "stdout",
     "output_type": "stream",
     "text": [
      "ID             557\n",
      "Scheduled      557\n",
      "PassThru       557\n",
      "Start Time     557\n",
      "End Time       557\n",
      "Event          557\n",
      "School Name    557\n",
      "School Code    557\n",
      "Sport          557\n",
      "dtype: int64\n"
     ]
    },
    {
     "data": {
      "text/html": [
       "<div>\n",
       "<style scoped>\n",
       "    .dataframe tbody tr th:only-of-type {\n",
       "        vertical-align: middle;\n",
       "    }\n",
       "\n",
       "    .dataframe tbody tr th {\n",
       "        vertical-align: top;\n",
       "    }\n",
       "\n",
       "    .dataframe thead th {\n",
       "        text-align: right;\n",
       "    }\n",
       "</style>\n",
       "<table border=\"1\" class=\"dataframe\">\n",
       "  <thead>\n",
       "    <tr style=\"text-align: right;\">\n",
       "      <th></th>\n",
       "      <th>School Name</th>\n",
       "      <th>Lat</th>\n",
       "      <th>Long</th>\n",
       "    </tr>\n",
       "  </thead>\n",
       "  <tbody>\n",
       "    <tr>\n",
       "      <th>0</th>\n",
       "      <td>Conference USA</td>\n",
       "      <td>32.9353</td>\n",
       "      <td>-96.984</td>\n",
       "    </tr>\n",
       "    <tr>\n",
       "      <th>1</th>\n",
       "      <td>Davenport University</td>\n",
       "      <td>42.8495</td>\n",
       "      <td>-85.5307</td>\n",
       "    </tr>\n",
       "    <tr>\n",
       "      <th>2</th>\n",
       "      <td>University of West Georgia</td>\n",
       "      <td>33.5718</td>\n",
       "      <td>-85.1032</td>\n",
       "    </tr>\n",
       "    <tr>\n",
       "      <th>3</th>\n",
       "      <td>Presidents Athletic Conference</td>\n",
       "      <td>41.412</td>\n",
       "      <td>-80.3839</td>\n",
       "    </tr>\n",
       "    <tr>\n",
       "      <th>4</th>\n",
       "      <td>Conference USA</td>\n",
       "      <td>32.9353</td>\n",
       "      <td>-96.984</td>\n",
       "    </tr>\n",
       "    <tr>\n",
       "      <th>...</th>\n",
       "      <td>...</td>\n",
       "      <td>...</td>\n",
       "      <td>...</td>\n",
       "    </tr>\n",
       "    <tr>\n",
       "      <th>552</th>\n",
       "      <td>Providence College</td>\n",
       "      <td>41.8439</td>\n",
       "      <td>-71.4349</td>\n",
       "    </tr>\n",
       "    <tr>\n",
       "      <th>553</th>\n",
       "      <td>Mississippi State University</td>\n",
       "      <td>33.4552</td>\n",
       "      <td>-88.7944</td>\n",
       "    </tr>\n",
       "    <tr>\n",
       "      <th>554</th>\n",
       "      <td>East Carolina University</td>\n",
       "      <td>35.6069</td>\n",
       "      <td>-77.3665</td>\n",
       "    </tr>\n",
       "    <tr>\n",
       "      <th>555</th>\n",
       "      <td>University of the Cumberlands</td>\n",
       "      <td>36.7371</td>\n",
       "      <td>-84.1638</td>\n",
       "    </tr>\n",
       "    <tr>\n",
       "      <th>556</th>\n",
       "      <td>VILLANOVA UNIVERSITY</td>\n",
       "      <td>40.0369</td>\n",
       "      <td>-75.3426</td>\n",
       "    </tr>\n",
       "  </tbody>\n",
       "</table>\n",
       "<p>557 rows × 3 columns</p>\n",
       "</div>"
      ],
      "text/plain": [
       "                        School Name      Lat     Long\n",
       "0                    Conference USA  32.9353  -96.984\n",
       "1              Davenport University  42.8495 -85.5307\n",
       "2        University of West Georgia  33.5718 -85.1032\n",
       "3    Presidents Athletic Conference   41.412 -80.3839\n",
       "4                    Conference USA  32.9353  -96.984\n",
       "..                              ...      ...      ...\n",
       "552              Providence College  41.8439 -71.4349\n",
       "553    Mississippi State University  33.4552 -88.7944\n",
       "554        East Carolina University  35.6069 -77.3665\n",
       "555   University of the Cumberlands  36.7371 -84.1638\n",
       "556            VILLANOVA UNIVERSITY  40.0369 -75.3426\n",
       "\n",
       "[557 rows x 3 columns]"
      ]
     },
     "execution_count": 4,
     "metadata": {},
     "output_type": "execute_result"
    }
   ],
   "source": [
    "print(basecount)\n",
    "Geo_df\n"
   ]
  },
  {
   "cell_type": "code",
   "execution_count": 5,
   "metadata": {},
   "outputs": [],
   "source": [
    "Geo_df.to_csv('Geo_df.csv')"
   ]
  },
  {
   "cell_type": "code",
   "execution_count": 49,
   "metadata": {},
   "outputs": [
    {
     "data": {
      "text/plain": [
       "Index(['School Name', 'Lat', 'Long'], dtype='object')"
      ]
     },
     "execution_count": 49,
     "metadata": {},
     "output_type": "execute_result"
    }
   ],
   "source": [
    "#Geo_df = pd.read_csv('Geo_df.csv')\n",
    "#Geo_df.loc[1:70,:]\n",
    "\n",
    "Geo_df.columns"
   ]
  },
  {
   "cell_type": "code",
   "execution_count": 51,
   "metadata": {},
   "outputs": [
    {
     "name": "stdout",
     "output_type": "stream",
     "text": [
      "Lat     553\n",
      "Long    553\n",
      "dtype: int64\n"
     ]
    }
   ],
   "source": [
    "# Store latitude and longitude in locations\n",
    "locations=pd.DataFrame()\n",
    "for index, row in Geo_df.iterrows():\n",
    "    if row['Lat']> -90 or row['Lat']<90:\n",
    "        locations.loc[index,'Lat']=row['Lat']\n",
    "        locations.loc[index,'Long']=row['Long']\n",
    "  \n",
    "      \n",
    "\n",
    "print(locations.count())"
   ]
  },
  {
   "cell_type": "code",
   "execution_count": 52,
   "metadata": {},
   "outputs": [],
   "source": [
    "import gmaps\n",
    "# Customize the size of the figure\n",
    "figure_layout = {\n",
    "    'width': '900px',\n",
    "    'height': '800px',\n",
    "    'border': '1px solid black',\n",
    "    'padding': '0px',\n",
    "    'margin': '0 auto 0 auto'\n",
    "}\n",
    "fig = gmaps.figure(layout=figure_layout)\n",
    "#fig"
   ]
  },
  {
   "cell_type": "code",
   "execution_count": 53,
   "metadata": {},
   "outputs": [
    {
     "data": {
      "application/vnd.jupyter.widget-view+json": {
       "model_id": "b4e8761e71e04bb98f2657942f390ea9",
       "version_major": 2,
       "version_minor": 0
      },
      "text/plain": [
       "Figure(layout=FigureLayout(border='1px solid black', height='800px', margin='0 auto 0 auto', padding='0px', wi…"
      ]
     },
     "metadata": {},
     "output_type": "display_data"
    }
   ],
   "source": [
    "# Assign the marker layer to a variable\n",
    "markers = gmaps.heatmap_layer(locations)\n",
    "# Add the layer to the map\n",
    "fig.add_layer(markers)\n",
    "#plt.savefig(\"Home_Team_Heatmap.png\")\n",
    "fig"
   ]
  },
  {
   "cell_type": "code",
   "execution_count": 54,
   "metadata": {},
   "outputs": [
    {
     "name": "stdout",
     "output_type": "stream",
     "text": [
      "Skipping\n",
      "Skipping\n",
      "Skipping\n",
      "Skipping\n",
      "Skipping\n",
      "Skipping\n",
      "Skipping\n",
      "Skipping\n"
     ]
    }
   ],
   "source": [
    "states_df = []\n",
    "\n",
    "# Build URL using the Google Maps API\n",
    "base_url = \"https://maps.googleapis.com/maps/api/geocode/json?latlng=\"\n",
    "key = \"&key=\" + gkey\n",
    "    \n",
    "for index, rows in locations.iterrows():\n",
    "    try:\n",
    "        url = f\"{base_url}{rows.Lat},{rows.Long}{key}\"\n",
    "        #print(requests.get(url).json()[\"results\"][0][\"address_components\"][4][\"long_name\"])\n",
    "\n",
    "        states_df.append({\n",
    "                \"Lat\":rows.Lat,\n",
    "                \"Long\":rows.Long,\n",
    "                \"State\":requests.get(url).json()[\"results\"][0][\"address_components\"][4][\"long_name\"]\n",
    "        })  \n",
    "    except(KeyError, IndexError):\n",
    "        print('Skipping')\n",
    "\n",
    "#states_df.head()"
   ]
  },
  {
   "cell_type": "code",
   "execution_count": 55,
   "metadata": {},
   "outputs": [
    {
     "data": {
      "text/plain": [
       "Texas               54\n",
       "United States       38\n",
       "Lehigh County       37\n",
       "Pennsylvania        30\n",
       "Kentucky            22\n",
       "                    ..\n",
       "Wayne Township       1\n",
       "Milwaukee County     1\n",
       "Chapel Hill          1\n",
       "Howard County        1\n",
       "Hamilton County      1\n",
       "Name: State, Length: 83, dtype: int64"
      ]
     },
     "execution_count": 55,
     "metadata": {},
     "output_type": "execute_result"
    }
   ],
   "source": [
    "states_df = pd.DataFrame(states_df)\n",
    "states_df\n",
    "states_count = states_df['State'].value_counts()\n",
    "states_count "
   ]
  },
  {
   "cell_type": "markdown",
   "metadata": {},
   "source": [
    "Notes:  This uses the events.csv - which was the first data frame I created - it takes the school name and queries google maps api to get the Longitude and Latitude for the school location.  Then the locations can be put into the heat map.  I did not put the locations back into the events data frame but you could.  I put in commented lines to show you how you would do this.  But the reason the location data was set up as it's own data frame was to allow the maps api to use data that had no values that would be detected as null or bad Latitude values."
   ]
  }
 ],
 "metadata": {
  "kernelspec": {
   "display_name": "Python [conda env:PythonData] *",
   "language": "python",
   "name": "conda-env-PythonData-py"
  },
  "language_info": {
   "codemirror_mode": {
    "name": "ipython",
    "version": 3
   },
   "file_extension": ".py",
   "mimetype": "text/x-python",
   "name": "python",
   "nbconvert_exporter": "python",
   "pygments_lexer": "ipython3",
   "version": "3.6.10"
  }
 },
 "nbformat": 4,
 "nbformat_minor": 4
}
