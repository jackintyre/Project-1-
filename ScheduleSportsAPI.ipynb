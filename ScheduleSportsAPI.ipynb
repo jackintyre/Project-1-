{
 "cells": [
  {
   "cell_type": "markdown",
   "metadata": {},
   "source": [
    "# Functions for Processing\n",
    "----\n",
    "\n",
    "#### Note\n"
   ]
  },
  {
   "cell_type": "code",
   "execution_count": 2,
   "metadata": {},
   "outputs": [],
   "source": [
    "# Dependencies and Setup\n",
    "import matplotlib.pyplot as plt\n",
    "import pandas as pd\n",
    "import numpy as np\n",
    "import requests\n",
    "import time\n",
    "import json as js\n",
    "from scipy.stats import linregress\n",
    "from collections import Counter \n",
    "\n",
    "# Import API key - usng CBS keys - not used yet\n",
    "#from api_keys import sport_key\n",
    "\n",
    "# Incorporated citipy to determine city based on latitude and longitude\n",
    "#from citipy import citipy\n",
    "\n",
    "# Input test file (JSON)\n",
    "input_data_file='events.json'\n",
    "# Output File (CSV)\n",
    "output_data_file = \"../output_data/eventsMaster.csv\"\n"
   ]
  },
  {
   "cell_type": "markdown",
   "metadata": {},
   "source": [
    "## Generate Events listing"
   ]
  },
  {
   "cell_type": "code",
   "execution_count": 3,
   "metadata": {},
   "outputs": [],
   "source": [
    "with open(input_data_file) as f:\n",
    "  data = js.load(f)\n",
    "#gives a dictionary\n",
    "#data.values()\n"
   ]
  },
  {
   "cell_type": "code",
   "execution_count": 4,
   "metadata": {},
   "outputs": [],
   "source": [
    "import pprint\n",
    "pp = pprint.PrettyPrinter(depth=4)\n",
    "\n"
   ]
  },
  {
   "cell_type": "markdown",
   "metadata": {},
   "source": [
    "Need: \n",
    "'count'  - gives the number of events in the list\n",
    "nested in 'count'\n",
    "'events' - nested\n",
    " by 'contenttype'\n",
    "     'eventstate' 'scheduled'\n",
    "     'eventstatus' 'live'\n",
    "     'eventtype' 'game'\n",
    "     'is_passthrough' 'False'\n",
    "     'prismid': '27a62c10-4a15-42ae-a81b-9b31c346ffb9',  [unique id]\n",
    "     'schedule': {'endtimestamp': 1618181100,\n",
    "                          'starttimebuffer': 0,\n",
    "                          'starttimestamp': 1618163100},\n",
    "     'school': 'nwst',\n",
    "     'school_name': 'Northwestern State University',\n",
    "     'sport': 'm-basebl',\n",
    "     'sport_name': 'Baseball',\n",
    "\n"
   ]
  },
  {
   "cell_type": "markdown",
   "metadata": {},
   "source": [
    "### Perform API Calls\n",
    "* Perform a weather check on each city using a series of successive API calls.\n",
    "* Include a print log of each city as it'sbeing processed (with the city number and city name).\n"
   ]
  },
  {
   "cell_type": "markdown",
   "metadata": {},
   "source": [
    "### Convert Raw Data to DataFrame\n",
    "* Export the city data into a .csv.\n",
    "* Display the DataFrame"
   ]
  },
  {
   "cell_type": "code",
   "execution_count": 4,
   "metadata": {},
   "outputs": [],
   "source": [
    "#another way to print\n",
    "\n",
    "#pp.pprint(f'Dictionary comprehension: {data}')"
   ]
  },
  {
   "cell_type": "code",
   "execution_count": 5,
   "metadata": {},
   "outputs": [
    {
     "data": {
      "text/plain": [
       "dict_keys(['events', 'count'])"
      ]
     },
     "execution_count": 5,
     "metadata": {},
     "output_type": "execute_result"
    }
   ],
   "source": [
    "data.keys()"
   ]
  },
  {
   "cell_type": "code",
   "execution_count": 7,
   "metadata": {},
   "outputs": [
    {
     "name": "stdout",
     "output_type": "stream",
     "text": [
      "706\n"
     ]
    }
   ],
   "source": [
    "newDict={}\n",
    "print(data['count'])\n",
    "newCount=0\n",
    "#filter out the passthrough records\n",
    "Counts=data['count']\n",
    "#first look for passthrough = True\n",
    "for index in range(1,Counts):\n",
    "    if data['events'][index]['is_passthrough']==False:\n",
    "        newDict=data\n",
    "        newCount= newCount+1\n",
    "    \n",
    "#print(newDict)    \n",
    "#print(f'filtered data counts {newCount}')"
   ]
  },
  {
   "cell_type": "code",
   "execution_count": 8,
   "metadata": {},
   "outputs": [],
   "source": [
    "ID=[]\n",
    "Type=[]\n",
    "Scheduled=[]\n",
    "Status=[]\n",
    "CType=[]\n",
    "Pass=[]\n",
    "Start=[]\n",
    "End=[]\n",
    "Event_Title=[]\n",
    "School_Name=[]\n",
    "School_Code=[]\n",
    "Game=[]\n",
    "PubPoint=[]\n",
    "\n",
    "\n",
    "for index in range(1,newCount):\n",
    "    try:\n",
    "        ID.append(newDict['events'][index]['prismid'])\n",
    "        Type.append(newDict['events'][index]['eventtype'])\n",
    "        Scheduled.append(newDict['events'][index]['eventstate'])\n",
    "        Status.append(newDict['events'][index]['eventstatus'])\n",
    "        #CType.append(newDict['events'][index]['contenttype'])\n",
    "        Pass.append(newDict['events'][index]['is_passthrough'])\n",
    "        Start.append(newDict['events'][index]['starttime'])\n",
    "        End.append(newDict['events'][index]['endtime'])\n",
    "        Event_Title.append(newDict['events'][index]['eventtitle'])\n",
    "        School_Name.append(newDict['events'][index]['school_name'])\n",
    "        School_Code.append(newDict['events'][index]['school'])\n",
    "        Game.append(newDict['events'][index]['sport_name'])\n",
    "        #PubPoint.append(newDict['events'][index]['ingest']['primary']['pub_point'])\n",
    "    except ValueError:\n",
    "        continue\n",
    "    except KeyError:\n",
    "        print(index)\n",
    "        continue\n",
    "             \n",
    "        \n",
    "  \n",
    "    \n",
    "event_df=pd.DataFrame(ID)\n",
    "event_df['Event type']=Type\n",
    "event_df['Scheduled']=Scheduled\n",
    "event_df['Is Live']=Status\n",
    "#event_df['Content Type']=CType\n",
    "event_df['PassThru']=Pass\n",
    "event_df['Start Time']=Start\n",
    "event_df['End Time']=End\n",
    "event_df['Event']=Event_Title\n",
    "event_df['School Name']=School_Name\n",
    "event_df['School Code']=School_Code\n",
    "event_df['Sport']=Game\n",
    "#event_df['Access Point']=PubPoint\n",
    "event_df.rename(columns={0:'ID'},inplace=True)\n",
    "event_df.set_index('ID',inplace=True)\n",
    "\n"
   ]
  },
  {
   "cell_type": "code",
   "execution_count": 9,
   "metadata": {
    "scrolled": true
   },
   "outputs": [],
   "source": [
    "#event_df"
   ]
  },
  {
   "cell_type": "code",
   "execution_count": 13,
   "metadata": {},
   "outputs": [
    {
     "data": {
      "text/plain": [
       "Index(['Event type', 'Scheduled', 'Is Live', 'PassThru', 'Start Time',\n",
       "       'End Time', 'Event', 'School Name', 'School Code', 'Sport'],\n",
       "      dtype='object')"
      ]
     },
     "execution_count": 13,
     "metadata": {},
     "output_type": "execute_result"
    }
   ],
   "source": [
    "event_df.columns"
   ]
  },
  {
   "cell_type": "code",
   "execution_count": 14,
   "metadata": {},
   "outputs": [],
   "source": [
    "#output dataframe to CSV file\n",
    "#event_df.to_csv('events.csv')"
   ]
  },
  {
   "cell_type": "code",
   "execution_count": 15,
   "metadata": {},
   "outputs": [],
   "source": [
    "#process for location lat/lng by School Name\n",
    "#from api_keys import g_key\n",
    "\n",
    "#school locations to come later this week"
   ]
  },
  {
   "cell_type": "code",
   "execution_count": 16,
   "metadata": {},
   "outputs": [],
   "source": [
    "import datetime\n",
    "\n",
    "count=[]\n",
    "x=0\n",
    "        #read in start and end epoch times convert to integer and append to new list\n",
    "Start3=list(map(int, Start))   \n",
    "End3=list(map(int, End))\n",
    "        #convert epoch times to datetime for readability\n",
    "y=len(Start)\n",
    "for x in range(len(Start)):\n",
    "    Start3[x]=datetime.datetime.fromtimestamp(Start3[x])\n",
    "    End3[x]=datetime.datetime.fromtimestamp(End3[x])\n",
    "            #counter for Index ID in dataframe\n",
    "    count.append(x)\n",
    "        #create new dataframe for event start and end datetimes\n",
    "active_runtime_df= pd.DataFrame(count)  \n",
    "Start2=list(map(int, Start))   \n",
    "End2=list(map(int, End))\n",
    "active_runtime_df['epochStart']= pd.DataFrame(Start2)\n",
    "active_runtime_df['epochEnd']= pd.DataFrame(End2)\n",
    "    #active_runtime_df['Start']= datetime.datetime.fromtimestamp(Start)  \n",
    "active_runtime_df['Start']= pd.DataFrame(Start3)\n",
    "    #active_runtime_df['End']= datetime.datetime.fromtimestamp(End)   \n",
    "active_runtime_df['End']= pd.DataFrame(End3)"
   ]
  },
  {
   "cell_type": "code",
   "execution_count": 17,
   "metadata": {},
   "outputs": [],
   "source": [
    "        #sort datafrane by earliest Start\n",
    "active_runtime_df = active_runtime_df.sort_values(by=\"Start\")\n",
    "#active_runtime_df"
   ]
  },
  {
   "cell_type": "code",
   "execution_count": 18,
   "metadata": {},
   "outputs": [],
   "source": [
    "import pandas as pd\n",
    "from io import StringIO\n",
    "        #split start and end datetimes to Date and Time columns\n",
    "active_runtime_df['Start Date'], active_runtime_df['Start Time'] = active_runtime_df['Start'].dt.date, active_runtime_df['Start'].dt.time\n",
    "active_runtime_df['End Date'], active_runtime_df['End Time'] = active_runtime_df['End'].dt.date, active_runtime_df['End'].dt.time\n",
    "\n",
    "#print(active_runtime_df)"
   ]
  },
  {
   "cell_type": "code",
   "execution_count": 19,
   "metadata": {},
   "outputs": [],
   "source": [
    "        #Weekly break down of how many events per day\n",
    "dates=[]\n",
    "dates=active_runtime_df['Start Date'].unique()\n",
    "daycount= active_runtime_df.pivot_table(index = ['Start Date'], aggfunc ='size')\n",
    "#daycount\n",
    "#rough count of events per day, not including events that run into next day"
   ]
  },
  {
   "cell_type": "code",
   "execution_count": 20,
   "metadata": {},
   "outputs": [
    {
     "data": {
      "text/plain": [
       "<BarContainer object of 6 artists>"
      ]
     },
     "execution_count": 20,
     "metadata": {},
     "output_type": "execute_result"
    },
    {
     "data": {
      "image/png": "[encoded data removed]",
      "text/plain": [
       "<Figure size 720x288 with 1 Axes>"
      ]
     },
     "metadata": {
      "needs_background": "light"
     },
     "output_type": "display_data"
    }
   ],
   "source": [
    "        #create bar graph of weekly breakdown\n",
    "x_axis =dates\n",
    "plt.figure(figsize=(10,4))\n",
    "plt.title('Weekly Event Schedule')\n",
    "plt.ylabel('Event Count')\n",
    "plt.xlabel('Dates \"YYYY-MM-DD\"')\n",
    "plt.bar(x_axis, daycount, color='g', alpha=.5, align=\"center\")"
   ]
  },
  {
   "cell_type": "code",
   "execution_count": 21,
   "metadata": {},
   "outputs": [
    {
     "name": "stdout",
     "output_type": "stream",
     "text": [
      "Enter a date in YYYY-MM-DD format 2021-04-10\n"
     ]
    }
   ],
   "source": [
    "import datetime\n",
    "\n",
    "        #pull in user specific date to get daily breakdown by hour of day\n",
    "date_entry= input('Enter a date in YYYY-MM-DD format ')\n",
    "        #convert user date into datetime\n",
    "year, month, day = map(int, date_entry.split('-'))\n",
    "date1 = datetime.date(year, month, day)\n",
    "#print(date1)\n",
    "        #Convert datetime to epoch timestamp\n",
    "from datetime import datetime\n",
    "datetime1 = datetime(date1.year, date1.month, date1.day)\n",
    "epoch_datetime = datetime1.timestamp()\n",
    "#epoch time current date to midnight add 86400 for end of day\n",
    "#for x=epoch starttime to y=epochendtime\n",
    "    #resolutionvariable (24*60*60\\(60*60)\n"
   ]
  },
  {
   "cell_type": "code",
   "execution_count": 26,
   "metadata": {},
   "outputs": [],
   "source": [
    "\n",
    "import datetime\n",
    "count=[]\n",
    "timepoints=[]\n",
    "i=0\n",
    "\n",
    "x=int(epoch_datetime)\n",
    "q=int(epoch_datetime+86400)\n",
    "#print(x)\n",
    "j=0\n",
    "            #compare each starttime in epoch to current epoch hour of given day\n",
    "            #add to count if between starttime and endtime for each row that applies\n",
    "            #append that count to hourly list and interate to next hour of the day\n",
    "for i in range(24):\n",
    "    timepoints.append(i+1)\n",
    "    b=0\n",
    "    for index, row in active_runtime_df.iterrows():\n",
    "        date2=row['Start Date']\n",
    "        if date2==date1:\n",
    "                #num1=str(row['Start'])\n",
    "                #print(num1)\n",
    "                #format = \"%Y-%m-%d %H:%M:%S\"\n",
    "                #datetime1 = datetime.datetime.strptime(num1, format)\n",
    "                #num2=str(row['End'])\n",
    "                #datetime2 = datetime.datetime.strptime(num2, format)\n",
    "                #print(type(datetime1))\n",
    "                #starttime1=datetime1.timestamp()\n",
    "            starttime1=row['epochStart']\n",
    "                #print(type(starttime1))\n",
    "                #endtime1=datetime2.timestamp()\n",
    "            endtime1=row['epochEnd']\n",
    "            begin=int(starttime1)\n",
    "            ending=int(endtime1)\n",
    "            if x>=row['epochStart'] and x<=row['epochEnd']:\n",
    "                b+=1\n",
    "                #print(b)\n",
    "    count.append(b)\n",
    "    x=x+3600\n",
    "    #print(x)\n",
    "#print(count[20])"
   ]
  },
  {
   "cell_type": "code",
   "execution_count": 28,
   "metadata": {},
   "outputs": [
    {
     "data": {
      "image/png": "[encoded data removed]",
      "text/plain": [
       "<Figure size 720x288 with 1 Axes>"
      ]
     },
     "metadata": {
      "needs_background": "light"
     },
     "output_type": "display_data"
    }
   ],
   "source": [
    "import matplotlib.pyplot as plt\n",
    "import datetime\n",
    "import matplotlib.dates as mdates\n",
    "\n",
    "        #create line graph of daily breakdown by hour\n",
    "plt.figure(figsize=(10,4))\n",
    "plt.xticks(timepoints)\n",
    "plt.title('Hourly Event Schedule '+str(date1))\n",
    "plt.ylabel('Event Count')\n",
    "plt.xlabel('Hour of Day')\n",
    "plt.plot(timepoints, count, color='blue', marker='o')\n",
    "\n",
    "plt.show()"
   ]
  },
  {
   "cell_type": "code",
   "execution_count": null,
   "metadata": {},
   "outputs": [],
   "source": []
  },
  {
   "cell_type": "code",
   "execution_count": null,
   "metadata": {},
   "outputs": [],
   "source": []
  }
 ],
 "metadata": {
  "anaconda-cloud": {},
  "kernel_info": {
   "name": "python3"
  },
  "kernelspec": {
   "display_name": "Python [conda env:.conda-pythondata] *",
   "language": "python",
   "name": "conda-env-.conda-pythondata-py"
  },
  "language_info": {
   "codemirror_mode": {
    "name": "ipython",
    "version": 3
   },
   "file_extension": ".py",
   "mimetype": "text/x-python",
   "name": "python",
   "nbconvert_exporter": "python",
   "pygments_lexer": "ipython3",
   "version": "3.6.10"
  },
  "latex_envs": {
   "LaTeX_envs_menu_present": true,
   "autoclose": false,
   "autocomplete": true,
   "bibliofile": "biblio.bib",
   "cite_by": "apalike",
   "current_citInitial": 1,
   "eqLabelWithNumbers": true,
   "eqNumInitial": 1,
   "hotkeys": {
    "equation": "Ctrl-E",
    "itemize": "Ctrl-I"
   },
   "labels_anchors": false,
   "latex_user_defs": false,
   "report_style_numbering": false,
   "user_envs_cfg": false
  },
  "nteract": {
   "version": "0.12.3"
  }
 },
 "nbformat": 4,
 "nbformat_minor": 2
}
