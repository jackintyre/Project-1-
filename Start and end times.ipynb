{
 "cells": [
  {
   "cell_type": "code",
   "execution_count": 1,
   "metadata": {},
   "outputs": [
    {
     "ename": "NameError",
     "evalue": "name 'Start' is not defined",
     "output_type": "error",
     "traceback": [
      "\u001b[1;31m---------------------------------------------------------------------------\u001b[0m",
      "\u001b[1;31mNameError\u001b[0m                                 Traceback (most recent call last)",
      "\u001b[1;32m<ipython-input-1-735361a201bc>\u001b[0m in \u001b[0;36m<module>\u001b[1;34m\u001b[0m\n\u001b[0;32m      4\u001b[0m \u001b[0mx\u001b[0m\u001b[1;33m=\u001b[0m\u001b[1;36m0\u001b[0m\u001b[1;33m\u001b[0m\u001b[1;33m\u001b[0m\u001b[0m\n\u001b[0;32m      5\u001b[0m \u001b[1;33m\u001b[0m\u001b[0m\n\u001b[1;32m----> 6\u001b[1;33m \u001b[0mStart\u001b[0m\u001b[1;33m=\u001b[0m\u001b[0mlist\u001b[0m\u001b[1;33m(\u001b[0m\u001b[0mmap\u001b[0m\u001b[1;33m(\u001b[0m\u001b[0mint\u001b[0m\u001b[1;33m,\u001b[0m \u001b[0mStart\u001b[0m\u001b[1;33m)\u001b[0m\u001b[1;33m)\u001b[0m\u001b[1;33m\u001b[0m\u001b[1;33m\u001b[0m\u001b[0m\n\u001b[0m\u001b[0;32m      7\u001b[0m \u001b[0mEnd\u001b[0m\u001b[1;33m=\u001b[0m\u001b[0mlist\u001b[0m\u001b[1;33m(\u001b[0m\u001b[0mmap\u001b[0m\u001b[1;33m(\u001b[0m\u001b[0mint\u001b[0m\u001b[1;33m,\u001b[0m \u001b[0mEnd\u001b[0m\u001b[1;33m)\u001b[0m\u001b[1;33m)\u001b[0m\u001b[1;33m\u001b[0m\u001b[1;33m\u001b[0m\u001b[0m\n\u001b[0;32m      8\u001b[0m \u001b[0my\u001b[0m\u001b[1;33m=\u001b[0m\u001b[0mlen\u001b[0m\u001b[1;33m(\u001b[0m\u001b[0mStart\u001b[0m\u001b[1;33m)\u001b[0m\u001b[1;33m\u001b[0m\u001b[1;33m\u001b[0m\u001b[0m\n",
      "\u001b[1;31mNameError\u001b[0m: name 'Start' is not defined"
     ]
    }
   ],
   "source": [
    "import datetime\n",
    "\n",
    "count=[]\n",
    "x=0\n",
    "\n",
    "Start=list(map(int, Start))   \n",
    "End=list(map(int, End))\n",
    "y=len(Start)\n",
    "for x in range(len(Start)):\n",
    "    Start[x]=datetime.datetime.fromtimestamp(Start[x])\n",
    "    End[x]=datetime.datetime.fromtimestamp(End[x])\n",
    "    count.append(x)\n",
    "\n",
    "active_runtime_df= pd.DataFrame(count)   \n",
    "    #active_runtime_df['Start']= datetime.datetime.fromtimestamp(Start)  \n",
    "active_runtime_df['Start']= pd.DataFrame(Start)\n",
    "    #active_runtime_df['End']= datetime.datetime.fromtimestamp(End)   \n",
    "active_runtime_df['End']= pd.DataFrame(End)"
   ]
  },
  {
   "cell_type": "code",
   "execution_count": null,
   "metadata": {},
   "outputs": [],
   "source": [
    "active_runtime_df = active_runtime_df.sort_values(by=\"Start\")\n",
    "active_runtime_df"
   ]
  },
  {
   "cell_type": "code",
   "execution_count": 1,
   "metadata": {},
   "outputs": [
    {
     "name": "stdout",
     "output_type": "stream",
     "text": [
      "             DateTime       Date      Time\n",
      "0 2018-01-13 13:17:29 2018-01-13  13:17:29\n",
      "1 2018-01-06 17:49:43 2018-01-06  17:49:43\n",
      "2 2018-01-18 09:44:37 2018-01-18  09:44:37\n",
      "3 2018-01-04 10:45:52 2018-01-04  10:45:52\n",
      "4 2018-01-11 12:58:31 2018-01-11  12:58:31\n"
     ]
    }
   ],
   "source": [
    "import pandas as pd\n",
    "from io import StringIO\n",
    "\n",
    "active_runtime_df['Start Date'], active_runtime_df['Start Time'] = active_runtime_df['Start'].dt.date, active_runtime_df['Start'].dt.time\n",
    "active_runtime_df['End Date'], active_runtime_df['End Time'] = active_runtime_df['End'].dt.date, active_runtime_df['End'].dt.time\n",
    "\n",
    "print(active_runtime_df)\n"
   ]
  },
  {
   "cell_type": "code",
   "execution_count": null,
   "metadata": {},
   "outputs": [],
   "source": [
    "dates=[]\n",
    "dates=active_runtime_df['Start Date'].unique()\n",
    "daycount= active_runtime_df.pivot_table(index = ['Start Date'], aggfunc ='size')\n",
    "daycount\n",
    "#rough count of events per day, not including events that run into next day"
   ]
  },
  {
   "cell_type": "code",
   "execution_count": null,
   "metadata": {},
   "outputs": [],
   "source": [
    "x_axis =dates\n",
    "plt.figure(figsize=(10,4))\n",
    "plt.bar(x_axis, daycount, color='g', alpha=.5, align=\"center\")"
   ]
  },
  {
   "cell_type": "code",
   "execution_count": 7,
   "metadata": {},
   "outputs": [
    {
     "name": "stdout",
     "output_type": "stream",
     "text": [
      "Enter a date in YYYY-MM-DD format 2021-04-06\n",
      "2021-04-06\n",
      "1617681600.0\n"
     ]
    }
   ],
   "source": [
    "import datetime\n",
    "\n",
    "date_entry = input('Enter a date in YYYY-MM-DD format ')\n",
    "year, month, day = map(int, date_entry.split('-'))\n",
    "date1 = datetime.date(year, month, day)\n",
    "print(date1)\n",
    "from datetime import datetime\n",
    "datetime1 = datetime(date1.year, date1.month, date1.day)\n",
    "epoch_datetime = datetime1.timestamp()\n",
    "print(epoch_datetime)\n",
    "# break down each day\n",
    "#count list for 24 hours\n",
    "#for currentdate = date[y]\n",
    "#for x=starttime to endtime"
   ]
  },
  {
   "cell_type": "code",
   "execution_count": 6,
   "metadata": {},
   "outputs": [
    {
     "name": "stdout",
     "output_type": "stream",
     "text": [
      "Enter a date in YYYY-MM-DD format 2021-04-06\n",
      "2021-04-15\n"
     ]
    }
   ],
   "source": [
    "import datetime\n",
    "\n",
    "date_entry = input('Enter a date in YYYY-MM-DD format ')\n",
    "year, month, day = map(int, date_entry.split('-'))\n",
    "date2 = datetime.date(year, month, day)\n",
    "print(date1)"
   ]
  },
  {
   "cell_type": "code",
   "execution_count": null,
   "metadata": {},
   "outputs": [],
   "source": []
  }
 ],
 "metadata": {
  "kernelspec": {
   "display_name": "Python [conda env:.conda-pythondata] *",
   "language": "python",
   "name": "conda-env-.conda-pythondata-py"
  },
  "language_info": {
   "codemirror_mode": {
    "name": "ipython",
    "version": 3
   },
   "file_extension": ".py",
   "mimetype": "text/x-python",
   "name": "python",
   "nbconvert_exporter": "python",
   "pygments_lexer": "ipython3",
   "version": "3.6.10"
  }
 },
 "nbformat": 4,
 "nbformat_minor": 2
}
