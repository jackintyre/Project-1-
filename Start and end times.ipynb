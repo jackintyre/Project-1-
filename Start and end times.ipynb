{
 "cells": [
  {
   "cell_type": "code",
   "execution_count": null,
   "metadata": {},
   "outputs": [],
   "source": [
    "import datetime\n",
    "\n",
    "count=[]\n",
    "x=0\n",
    "\n",
    "Start=list(map(int, Start))   \n",
    "End=list(map(int, End))\n",
    "y=len(Start)\n",
    "for x in range(len(Start)):\n",
    "    Start[x]=datetime.datetime.fromtimestamp(Start[x])\n",
    "    End[x]=datetime.datetime.fromtimestamp(End[x])\n",
    "    count.append(x)\n",
    "\n",
    "active_runtime_df= pd.DataFrame(count)   \n",
    "    #active_runtime_df['Start']= datetime.datetime.fromtimestamp(Start)  \n",
    "active_runtime_df['Start']= pd.DataFrame(Start)\n",
    "    #active_runtime_df['End']= datetime.datetime.fromtimestamp(End)   \n",
    "active_runtime_df['End']= pd.DataFrame(End)"
   ]
  },
  {
   "cell_type": "code",
   "execution_count": null,
   "metadata": {},
   "outputs": [],
   "source": [
    "active_runtime_df = active_runtime_df.sort_values(by=\"Start\")\n",
    "active_runtime_df"
   ]
  },
  {
   "cell_type": "code",
   "execution_count": 1,
   "metadata": {},
   "outputs": [
    {
     "name": "stdout",
     "output_type": "stream",
     "text": [
      "             DateTime       Date      Time\n",
      "0 2018-01-13 13:17:29 2018-01-13  13:17:29\n",
      "1 2018-01-06 17:49:43 2018-01-06  17:49:43\n",
      "2 2018-01-18 09:44:37 2018-01-18  09:44:37\n",
      "3 2018-01-04 10:45:52 2018-01-04  10:45:52\n",
      "4 2018-01-11 12:58:31 2018-01-11  12:58:31\n"
     ]
    }
   ],
   "source": [
    "import pandas as pd\n",
    "from io import StringIO\n",
    "\n",
    "active_runtime_df['Start Date'], active_runtime_df['Start Time'] = active_runtime_df['Start'].dt.date, active_runtime_df['Start'].dt.time\n",
    "active_runtime_df['End Date'], active_runtime_df['End Time'] = active_runtime_df['End'].dt.date, active_runtime_df['End'].dt.time\n",
    "\n",
    "print(active_runtime_df)\n"
   ]
  },
  {
   "cell_type": "code",
   "execution_count": null,
   "metadata": {},
   "outputs": [],
   "source": [
    "dates=[]\n",
    "dates=active_runtime_df['Start Date'].unique()\n",
    "daycount= active_runtime_df.pivot_table(index = ['Start Date'], aggfunc ='size')\n",
    "daycount\n",
    "#rough count of events per day, not including events that run into next day"
   ]
  },
  {
   "cell_type": "code",
   "execution_count": null,
   "metadata": {},
   "outputs": [],
   "source": [
    "x_axis =dates\n",
    "plt.figure(figsize=(10,4))\n",
    "plt.bar(x_axis, daycount, color='g', alpha=.5, align=\"center\")"
   ]
  },
  {
   "cell_type": "code",
   "execution_count": null,
   "metadata": {},
   "outputs": [],
   "source": []
  }
 ],
 "metadata": {
  "kernelspec": {
   "display_name": "Python [conda env:.conda-pythondata] *",
   "language": "python",
   "name": "conda-env-.conda-pythondata-py"
  },
  "language_info": {
   "codemirror_mode": {
    "name": "ipython",
    "version": 3
   },
   "file_extension": ".py",
   "mimetype": "text/x-python",
   "name": "python",
   "nbconvert_exporter": "python",
   "pygments_lexer": "ipython3",
   "version": "3.6.10"
  }
 },
 "nbformat": 4,
 "nbformat_minor": 2
}
