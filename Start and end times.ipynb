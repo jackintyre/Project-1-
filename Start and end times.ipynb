{
 "cells": [
  {
   "cell_type": "code",
   "execution_count": null,
   "metadata": {},
   "outputs": [],
   "source": [
    "import datetime\n",
    "time=1618008600\n",
    "\n",
    "count=[]\n",
    "x=0\n",
    "\n",
    "Start=list(map(int, Start))   \n",
    "End=list(map(int, End))\n",
    "y=len(Start)\n",
    "for x in range(len(Start)):\n",
    "    Start[x]=datetime.datetime.fromtimestamp(Start[x])\n",
    "    End[x]=datetime.datetime.fromtimestamp(End[x])\n",
    "    count.append(x)\n",
    "\n",
    "active_runtime_df= pd.DataFrame(count)   \n",
    "    #active_runtime_df['Start']= datetime.datetime.fromtimestamp(Start)  \n",
    "active_runtime_df['Start']= pd.DataFrame(Start)\n",
    "    #active_runtime_df['End']= datetime.datetime.fromtimestamp(End)   \n",
    "active_runtime_df['End']= pd.DataFrame(End)"
   ]
  },
  {
   "cell_type": "code",
   "execution_count": null,
   "metadata": {},
   "outputs": [],
   "source": [
    "active_runtime_df = active_runtime_df.sort_values(by=\"Start\")\n",
    "active_runtime_df"
   ]
  },
  {
   "cell_type": "code",
   "execution_count": null,
   "metadata": {},
   "outputs": [],
   "source": []
  },
  {
   "cell_type": "code",
   "execution_count": null,
   "metadata": {},
   "outputs": [],
   "source": []
  }
 ],
 "metadata": {
  "kernelspec": {
   "display_name": "Python 3",
   "language": "python",
   "name": "python3"
  },
  "language_info": {
   "codemirror_mode": {
    "name": "ipython",
    "version": 3
   },
   "file_extension": ".py",
   "mimetype": "text/x-python",
   "name": "python",
   "nbconvert_exporter": "python",
   "pygments_lexer": "ipython3",
   "version": "3.8.5"
  }
 },
 "nbformat": 4,
 "nbformat_minor": 2
}
